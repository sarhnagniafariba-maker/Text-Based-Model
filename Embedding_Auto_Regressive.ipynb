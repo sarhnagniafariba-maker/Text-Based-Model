{
 "cells": [
  {
   "cell_type": "markdown",
   "id": "237fd7f4-da62-446a-874e-033c131866da",
   "metadata": {},
   "source": [
    "This code is essentially teaching a computer to predict the next letter in a word, based on the letters it has seen so far. Imagine you're trying to guess the end of a word like \"oliv...\", and you want the computer to guess \"ia\".\n",
    "\n",
    "Here's the breakdown:\n",
    "\n",
    "1.  **Preparation**: The process starts by loading a list of names from a file. This list serves as the computer's learning material. All the unique letters found in these names are identified and given a special numerical code.\n",
    "\n",
    "2.  **Building the \"Brain\" (Neural Network)**: A simple artificial \"brain,\" called a neural network, is created. This brain has a few key parts:\n",
    "    *   **Character Fingerprints (Embedding Layer)**: Instead of directly using letters, the brain assigns a unique numerical \"fingerprint\" (an embedding) to each letter. Letters that appear in similar contexts in words will end up with similar fingerprints.\n",
    "    *   **Hidden Processing Layer**: This part takes the character fingerprints and processes them to find patterns and relationships between the letters.\n",
    "    *   **Output Layer**: This is the final part that uses the processed information to make a prediction about what the next letter should be.\n",
    "\n",
    "3.  **Training the Brain**: The brain then undergoes a training process, much like a student learning from examples:\n",
    "    *   It's repeatedly shown sequences of letters from the loaded names (e.g., \"oli\").\n",
    "    *   For each sequence, it tries to predict the very next letter (e.g., if the word is \"olivia\", it would predict 'v' after \"oli\", 'i' after \"liv\", and so on).\n",
    "    *   It compares its prediction to the actual next letter. If it's wrong, it calculates how big its mistake was.\n",
    "    *   Based on these mistakes, the brain adjusts its internal settings (the connections within its layers) to get better at making correct predictions in the future. This adjustment process happens thousands of times over many \"epochs\" (training cycles). The goal is to minimize its errors.\n",
    "\n",
    "4.  **Monitoring Progress**: As the brain learns, its \"error score\" (called loss) is tracked and plotted on a graph. Ideally, this graph should show the error score decreasing over time, indicating that the brain is getting smarter.\n",
    "\n",
    "5.  **Generating New Words**: After training, the brain is put to the test:\n",
    "    *   You give it a starting sequence of letters (e.g., \"oli\").\n",
    "    *   The brain uses its learned patterns to predict the most likely next letter.\n",
    "    *   It adds this predicted letter to the sequence (e.g., \"oliv\").\n",
    "    *   Then, it takes the *last few* letters of this new sequence (e.g., \"liv\") and feeds them back into itself to predict the *next* letter. This process repeats, gradually building out a new, generated word (e.g., \"olivia\").\n",
    "\n",
    "6.  **Visualizing Learnings**: Finally, the code can also create a visual map of the \"fingerprints\" (embeddings) for each character. This map helps to see how the brain groups similar characters together based on the patterns it learned from the names. For example, vowels might cluster together, or letters that often follow each other might appear close on the map.\n",
    "\n",
    "In essence, the code builds a simple predictive text model that learns the statistical patterns of character sequences from a list of names and then uses those patterns to generate new, name-like sequences of characters."
   ]
  },
  {
   "cell_type": "code",
   "execution_count": 2,
   "id": "20ad2949-258f-4daa-882b-0fd26b4d76e6",
   "metadata": {},
   "outputs": [],
   "source": [
    "words = open('names.txt', 'r').read().splitlines()"
   ]
  },
  {
   "cell_type": "code",
   "execution_count": 5,
   "id": "cd0f14d7-7d31-422e-98b1-66a46770472a",
   "metadata": {},
   "outputs": [
    {
     "data": {
      "text/plain": [
       "32033"
      ]
     },
     "execution_count": 5,
     "metadata": {},
     "output_type": "execute_result"
    }
   ],
   "source": [
    "len(words)"
   ]
  },
  {
   "cell_type": "code",
   "execution_count": 158,
   "id": "ec829f32-b190-4dc9-b3e8-a92255893e4f",
   "metadata": {},
   "outputs": [],
   "source": [
    "vocab =''.join(words)\n"
   ]
  },
  {
   "cell_type": "code",
   "execution_count": 159,
   "id": "9bef7654-a2a4-4832-8d71-a5bc932ccf78",
   "metadata": {},
   "outputs": [],
   "source": [
    "vocab =sorted(set(''.join(words)))"
   ]
  },
  {
   "cell_type": "code",
   "execution_count": 10,
   "id": "285188f4-996e-48e3-a6c1-4c5f8bac70fd",
   "metadata": {},
   "outputs": [],
   "source": [
    "i2s = {i+1:j for i,j in enumerate(vocab)}"
   ]
  },
  {
   "cell_type": "code",
   "execution_count": 17,
   "id": "22e18e9c-672c-4c74-87ef-0379f6e8440c",
   "metadata": {},
   "outputs": [],
   "source": [
    "s2i = {j:i+1 for i,j in enumerate(vocab)}"
   ]
  },
  {
   "cell_type": "code",
   "execution_count": 103,
   "id": "d7673754-f5fb-41d3-8d77-d79846474ec9",
   "metadata": {},
   "outputs": [
    {
     "data": {
      "text/plain": [
       "{'a': 1,\n",
       " 'b': 2,\n",
       " 'c': 3,\n",
       " 'd': 4,\n",
       " 'e': 5,\n",
       " 'f': 6,\n",
       " 'g': 7,\n",
       " 'h': 8,\n",
       " 'i': 9,\n",
       " 'j': 10,\n",
       " 'k': 11,\n",
       " 'l': 12,\n",
       " 'm': 13,\n",
       " 'n': 14,\n",
       " 'o': 15,\n",
       " 'p': 16,\n",
       " 'q': 17,\n",
       " 'r': 18,\n",
       " 's': 19,\n",
       " 't': 20,\n",
       " 'u': 21,\n",
       " 'v': 22,\n",
       " 'w': 23,\n",
       " 'x': 24,\n",
       " 'y': 25,\n",
       " 'z': 26,\n",
       " '.': 0}"
      ]
     },
     "execution_count": 103,
     "metadata": {},
     "output_type": "execute_result"
    }
   ],
   "source": [
    "i2s[0] = '.'\n",
    "s2i['.'] = 0\n",
    "s2i"
   ]
  },
  {
   "cell_type": "code",
   "execution_count": 20,
   "id": "54cea244-9ea2-42b8-9c20-4a16bdcbc6d8",
   "metadata": {},
   "outputs": [
    {
     "data": {
      "text/plain": [
       "12"
      ]
     },
     "execution_count": 20,
     "metadata": {},
     "output_type": "execute_result"
    }
   ],
   "source": [
    "s2i[i2s[12]]"
   ]
  },
  {
   "cell_type": "code",
   "execution_count": 160,
   "id": "66d42b77-065a-488d-82fe-b6521fe9fc60",
   "metadata": {},
   "outputs": [],
   "source": [
    "x= []\n",
    "y= []\n",
    "context_window = 3\n",
    "context = [0] * context_window\n",
    "\n",
    "for word in words:\n",
    "    for char in  word:\n",
    "        ix = s2i[char]\n",
    "        x.append(context)\n",
    "        y.append(ix)\n",
    "        context = context[1:] + [ ix]"
   ]
  },
  {
   "cell_type": "code",
   "execution_count": 161,
   "id": "1019bfda-7838-4a55-adc1-a8ea5c60bfe0",
   "metadata": {},
   "outputs": [
    {
     "data": {
      "text/plain": [
       "196113"
      ]
     },
     "execution_count": 161,
     "metadata": {},
     "output_type": "execute_result"
    }
   ],
   "source": [
    "len(x)"
   ]
  },
  {
   "cell_type": "code",
   "execution_count": 162,
   "id": "5f01a582-5954-42f9-b6b3-fb27696ad384",
   "metadata": {},
   "outputs": [
    {
     "data": {
      "text/plain": [
       "196113"
      ]
     },
     "execution_count": 162,
     "metadata": {},
     "output_type": "execute_result"
    }
   ],
   "source": [
    "len(y)"
   ]
  },
  {
   "cell_type": "code",
   "execution_count": 169,
   "id": "d93ca6bb-e9f2-4df3-8003-b8229b504336",
   "metadata": {},
   "outputs": [
    {
     "name": "stderr",
     "output_type": "stream",
     "text": [
      "C:\\Users\\user\\AppData\\Local\\Temp\\ipykernel_8636\\3575877793.py:1: UserWarning: To copy construct from a tensor, it is recommended to use sourceTensor.detach().clone() or sourceTensor.detach().clone().requires_grad_(True), rather than torch.tensor(sourceTensor).\n",
      "  x = torch.tensor(x)\n",
      "C:\\Users\\user\\AppData\\Local\\Temp\\ipykernel_8636\\3575877793.py:2: UserWarning: To copy construct from a tensor, it is recommended to use sourceTensor.detach().clone() or sourceTensor.detach().clone().requires_grad_(True), rather than torch.tensor(sourceTensor).\n",
      "  y = torch.tensor(y)\n"
     ]
    },
    {
     "data": {
      "text/plain": [
       "(torch.Size([196113, 3]), torch.Size([196113]))"
      ]
     },
     "execution_count": 169,
     "metadata": {},
     "output_type": "execute_result"
    }
   ],
   "source": [
    "x = torch.tensor(x)\n",
    "y = torch.tensor(y)\n",
    "x.shape, y.shape"
   ]
  },
  {
   "cell_type": "code",
   "execution_count": 105,
   "id": "b231cd33-d29c-4d47-89cb-31b88e464178",
   "metadata": {},
   "outputs": [],
   "source": [
    "import torch\n",
    "import torch.nn as nn\n",
    "import torch.nn.functional as F\n",
    "\n",
    "class MyTextModel(nn.Module):\n",
    "    def __init__(self, input_dim,embedding_dim, hidden_dim, output_dim,vocab_size ):\n",
    "        super( MyTextModel,self).__init__()\n",
    "        self.emb = nn.Embedding(vocab_size, embedding_dim)\n",
    "        self.hidden = nn.Linear(embedding_dim, hidden_dim)\n",
    "        self.output = nn.Linear(hidden_dim, output_dim)\n",
    "        \n",
    "    def forward(self, x):\n",
    "        x = self.emb(x)\n",
    "        x = F.relu(self.hidden(x))\n",
    "        x = self.output(x)\n",
    "        return x\n",
    "         \n",
    "         "
   ]
  },
  {
   "cell_type": "code",
   "execution_count": 163,
   "id": "7e9c689f-fe95-40dd-8692-7beff7929ccc",
   "metadata": {},
   "outputs": [],
   "source": [
    "torch.manual_seed(42)\n",
    "model = MyTextModel(3,2,16,len(vocab)+1,len(vocab)+1)"
   ]
  },
  {
   "cell_type": "code",
   "execution_count": 164,
   "id": "ed43aba2-f1d6-4abd-925a-d373887ab233",
   "metadata": {},
   "outputs": [
    {
     "data": {
      "text/plain": [
       "<bound method Module.parameters of MyTextModel(\n",
       "  (emb): Embedding(27, 2)\n",
       "  (hidden): Linear(in_features=2, out_features=16, bias=True)\n",
       "  (output): Linear(in_features=16, out_features=27, bias=True)\n",
       ")>"
      ]
     },
     "execution_count": 164,
     "metadata": {},
     "output_type": "execute_result"
    }
   ],
   "source": [
    "model.parameters"
   ]
  },
  {
   "cell_type": "code",
   "execution_count": 170,
   "id": "3d511463-a0c3-4f48-9e0b-c7c6eddc0a9f",
   "metadata": {},
   "outputs": [],
   "source": [
    "torch.manual_seed(42)\n",
    "model = MyTextModel(3,8,16,len(vocab)+1,len(vocab)+1)"
   ]
  },
  {
   "cell_type": "code",
   "execution_count": 154,
   "id": "acaadfec-75b7-469e-ba23-c88627f4f7c8",
   "metadata": {},
   "outputs": [],
   "source": [
    "#training loop\n",
    "optimizer = torch.optim.Adam(model.parameters(), lr = 0.001)\n",
    "criterion = F.cross_entropy\n",
    "\n",
    "lossi = []\n",
    "stepi = []\n",
    "counter = 0\n",
    "\n",
    "model.train()\n",
    "for epoch in range (800):\n",
    "        i_x = torch.randint(low=0, high=len(x), size=(1024*16,))\n",
    "        input_data = x[i_x]\n",
    "        output_data = y[i_x].long()\n",
    "        predict = model(input_data)\n",
    "        predict = predict.mean(dim=1)\n",
    "        predict = predict.view(-1, predict.size(-1)) \n",
    "        output_data = output_data.view(-1) \n",
    "        loss = criterion(predict, output_data)\n",
    "        optimizer.zero_grad()\n",
    "        loss.backward()\n",
    "        optimizer.step()\n",
    "        lossi.append(loss.item())\n",
    "        stepi.append(counter)\n",
    "        counter += 1\n"
   ]
  },
  {
   "cell_type": "code",
   "execution_count": 155,
   "id": "7351c87c-16cc-408f-8674-0564caa09656",
   "metadata": {},
   "outputs": [
    {
     "data": {
      "text/plain": [
       "[<matplotlib.lines.Line2D at 0x214950351d0>]"
      ]
     },
     "execution_count": 155,
     "metadata": {},
     "output_type": "execute_result"
    },
    {
     "data": {
      "image/png": "[encoded data removed]",
      "text/plain": [
       "<Figure size 640x480 with 1 Axes>"
      ]
     },
     "metadata": {},
     "output_type": "display_data"
    }
   ],
   "source": [
    "import matplotlib.pyplot as plt \n",
    "plt.plot(stepi,lossi)"
   ]
  },
  {
   "cell_type": "code",
   "execution_count": 156,
   "id": "ffdacc43-7bd0-43c3-8385-d8554bbbeeb2",
   "metadata": {},
   "outputs": [
    {
     "name": "stdout",
     "output_type": "stream",
     "text": [
      "oliani\n"
     ]
    }
   ],
   "source": [
    "model.eval()\n",
    "input_chars = ['o', 'l', 'i']\n",
    "input_vals = torch.tensor([[s2i[c] for c in input_chars]], dtype=torch.long)  \n",
    "\n",
    "result = input_chars.copy()\n",
    "\n",
    "for _ in range(3):\n",
    "    output = model(input_vals)  \n",
    "    last_timestep_logits = output[:, -1, :]  \n",
    "    probs = F.softmax(last_timestep_logits, dim=-1)  \n",
    "    next_idx = torch.multinomial(probs, 1).item()\n",
    "    next_char = i2s[next_idx]\n",
    "    result.append(next_char)\n",
    "\n",
    "    new_input = result[-3:]\n",
    "    input_vals = torch.tensor([[s2i[c] for c in new_input]], dtype=torch.long)\n",
    "\n",
    "generated_text = ''.join(result)\n",
    "print(generated_text)\n"
   ]
  },
  {
   "cell_type": "code",
   "execution_count": 157,
   "id": "a4b390ae-8188-4218-a27b-54edff4ed660",
   "metadata": {},
   "outputs": [
    {
     "data": {
      "image/png": "[encoded data removed]",
      "text/plain": [
       "<Figure size 1000x1000 with 1 Axes>"
      ]
     },
     "metadata": {},
     "output_type": "display_data"
    }
   ],
   "source": [
    "import matplotlib.pyplot as plt\n",
    "from sklearn.decomposition import PCA\n",
    "import torch\n",
    "\n",
    "embedding_weights = model.emb.weight.data.cpu().numpy() \n",
    "\n",
    "pca = PCA(n_components=2)\n",
    "embedding_2d = pca.fit_transform(embedding_weights)\n",
    "\n",
    "plt.figure(figsize=(10, 10))\n",
    "for char, idx in s2i.items():\n",
    "    a, b = embedding_2d[idx]\n",
    "    plt.scatter(a, b)\n",
    "    plt.text(a+0.01, b+0.01, char, fontsize=12)\n",
    "\n",
    "plt.title(\"2D visualization of character embeddings\")\n",
    "plt.xlabel(\"PCA Component 1\")\n",
    "plt.ylabel(\"PCA Component 2\")\n",
    "plt.grid(True)\n",
    "plt.show()\n"
   ]
  },
  {
   "cell_type": "code",
   "execution_count": null,
   "id": "b422fe6b-abea-4d6d-a6f0-c0601eb7b164",
   "metadata": {},
   "outputs": [],
   "source": []
  },
  {
   "cell_type": "code",
   "execution_count": null,
   "id": "3d146a56-5749-4445-b67a-ac7f80c4657c",
   "metadata": {},
   "outputs": [],
   "source": []
  },
  {
   "cell_type": "code",
   "execution_count": null,
   "id": "814bbca3-1785-4661-9762-ac4958c7c2ef",
   "metadata": {},
   "outputs": [],
   "source": []
  },
  {
   "cell_type": "code",
   "execution_count": null,
   "id": "a29f2fb1-1923-4e86-b7ba-7d3544f64486",
   "metadata": {},
   "outputs": [],
   "source": []
  },
  {
   "cell_type": "code",
   "execution_count": null,
   "id": "6ad641e1-85d5-4265-a9fd-c80c6c29c67b",
   "metadata": {},
   "outputs": [],
   "source": []
  }
 ],
 "metadata": {
  "kernelspec": {
   "display_name": "Python 3 (ipykernel)",
   "language": "python",
   "name": "python3"
  },
  "language_info": {
   "codemirror_mode": {
    "name": "ipython",
    "version": 3
   },
   "file_extension": ".py",
   "mimetype": "text/x-python",
   "name": "python",
   "nbconvert_exporter": "python",
   "pygments_lexer": "ipython3",
   "version": "3.13.7"
  }
 },
 "nbformat": 4,
 "nbformat_minor": 5
}
