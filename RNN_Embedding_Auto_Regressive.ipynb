{
 "cells": [
  {
   "cell_type": "markdown",
   "id": "8ca11afc-3d3c-4d22-8958-985c3455cbaa",
   "metadata": {},
   "source": [
    "### **Project Goal: Teaching a Machine to Write Names**\n",
    "\n",
    "The objective remains the same: to build and train a neural network that learns the fundamental patterns of character sequences from a list of names. By learning these patterns, the model can then generate new, plausible names that follow the same stylistic rules. The core skill it learns is how to accurately predict the next character in a sequence, now with a clear understanding of where names begin and end.\n",
    "\n",
    "---\n",
    "\n",
    "### **Part 1: Understanding the Raw Material (Data Preparation)**\n",
    "\n",
    "This phase is about translating the names from your text file into a numerical language the computer can process. Using `.` as a special token is central to this.\n",
    "\n",
    "1.  **The Role of the Dot (`.`) Token:** The `.` character now serves a crucial dual purpose. It acts as both a **start-of-word** marker and an **end-of-word** marker. This explicitly tells the model, \"A name is about to start,\" and, \"The name you just saw is now complete.\"\n",
    "\n",
    "2.  **Creating the Vocabulary:** The program scans all the names and compiles the vocabulary of all unique characters. The `.` character is now a vital member of this vocabulary, just as important as 'a', 'b', or 'c'.\n",
    "\n",
    "3.  **Creating Translation Dictionaries:** To convert between letters and numbers, two dictionaries are created. One maps each character (including the `.`) to a unique integer (e.g., `.` -> 0, `a` -> 1, `b` -> 2). The other does the reverse, allowing us to translate the model's numerical output back into a readable name.\n",
    "\n",
    "---\n",
    "\n",
    "### **Part 2: Creating Superior Learning Exercises (Dataset Formulation)**\n",
    "\n",
    "This is where using the `.` token dramatically improves the project. The model learns not just from the characters within the names, but also from the context of starting and ending.\n",
    "\n",
    "1.  **Padding the Data:** Before creating the learning examples, every name in the source file is \"padded\" with `.` characters. If your context window is three, a name like \"liam\" is transformed into `...liam.`. This padding is the textbook from which the model will learn.\n",
    "\n",
    "2.  **The Enhanced Sliding Window:** The program slides its three-character context window across this new, padded string to create much more informative input/output pairs.\n",
    "    *   **Exercise 1 (Learning to Start):** The AI is given the context `...` (three dots) and is taught that the correct answer is `l`. By seeing thousands of these examples, it learns the statistical probability of which letters are most likely to *begin* a name.\n",
    "    *   **Exercise 2:** The context slides forward. The AI is given `..l` and told the correct answer is `i`.\n",
    "    *   **Exercise 3:** The context slides again. The AI is given `.li` and told the correct answer is `a`.\n",
    "    *   **Exercise 4:** The context slides again. The AI is given `lia` and told the correct answer is `m`.\n",
    "    *   **Exercise 5 (Learning to End):** The context slides a final time. The AI is given `iam` and taught that the correct answer is `.`. This is a critical lesson. The model explicitly learns which character sequences signify that a name is complete.\n",
    "\n",
    "This method produces a far superior dataset. The model doesn't just learn \"what follows 'ia',\" it also learns \"what follows the start of a word\" and \"what character combination means it's time to end the word.\"\n",
    "\n",
    "---\n",
    "\n",
    "### **Part 3: The Brain of the Operation (The Model Architecture)**\n",
    "\n",
    "The internal structure of the AI remains the same. It is still a **Recurrent Neural Network (RNN)** perfectly suited for sequential data.\n",
    "\n",
    "1.  **The Embedding Layer (The \"Meaning\" Layer):** Converts the integer for each character (including the one for `.`) into a rich numerical vector, allowing the model to learn deeper relationships between characters.\n",
    "2.  **The RNN Layer (The \"Memory\" Layer):** Processes the sequence of three character vectors one by one, using its internal memory (hidden state) to understand the order and context of the sequence.\n",
    "3.  **The Linear Layer (The \"Decision\" Layer):** Takes the RNN's final memory state (a summary of the sequence) and produces a score for every character in the vocabulary, indicating how likely each one is to be the next character.\n",
    "\n",
    "---\n",
    "\n",
    "### **Part 4: The Study Session (Model Training)**\n",
    "\n",
    "The training process itself is mechanically identical, but the quality of the \"lessons\" is now much higher.\n",
    "\n",
    "1.  **Guess, Measure, Learn:** The model is fed batches of the new, padded exercises.\n",
    "2.  **Forward Pass:** It makes a prediction for each context.\n",
    "3.  **Loss Calculation:** It measures how wrong its predictions were compared to the correct answers.\n",
    "4.  **Backward Pass & Optimization:** It calculates which of its internal parameters were most responsible for any errors and the optimizer adjusts them slightly to improve future performance.\n",
    "\n",
    "This cycle is repeated for many epochs. The model gets progressively better at predicting the next character, including when to start a name with a letter and when to finish a name with a `.`.\n",
    "\n",
    "---\n",
    "\n",
    "### **Part 5: The Creative Act (Generating New Names)**\n",
    "\n",
    "The generation phase now becomes more natural and intelligent, directly benefiting from the use of the `.` token.\n",
    "\n",
    "1.  **The Starting Signal:** To begin generating a new name, we don't start with an empty or zero-filled context. We give the model the explicit starting signal it was trained on: a context of three `.` characters.\n",
    "\n",
    "2.  **Iterative Prediction:** The model takes this `...` context and predicts the most likely first letter (or rather, we sample from its predicted probabilities to ensure variety). Let's say it picks `e`.\n",
    "\n",
    "3.  **Update and Repeat:** The generated sequence is now \"e\". The context is updated to `..e` and fed back into the model. The model now predicts the second character. Let's say it's `m`. The sequence is now \"em\", and the context updates to `.em`. This loop of **predict -> sample -> update** continues."
   ]
  },
  {
   "cell_type": "code",
   "execution_count": 28,
   "id": "20ad2949-258f-4daa-882b-0fd26b4d76e6",
   "metadata": {},
   "outputs": [],
   "source": [
    "words = open('names.txt', 'r').read().splitlines()"
   ]
  },
  {
   "cell_type": "code",
   "execution_count": 29,
   "id": "cd0f14d7-7d31-422e-98b1-66a46770472a",
   "metadata": {},
   "outputs": [
    {
     "data": {
      "text/plain": [
       "32033"
      ]
     },
     "execution_count": 29,
     "metadata": {},
     "output_type": "execute_result"
    }
   ],
   "source": [
    "len(words)"
   ]
  },
  {
   "cell_type": "code",
   "execution_count": 30,
   "id": "ec829f32-b190-4dc9-b3e8-a92255893e4f",
   "metadata": {},
   "outputs": [],
   "source": [
    "vocab =''.join(words)\n"
   ]
  },
  {
   "cell_type": "code",
   "execution_count": 59,
   "id": "9bef7654-a2a4-4832-8d71-a5bc932ccf78",
   "metadata": {},
   "outputs": [
    {
     "data": {
      "text/plain": [
       "26"
      ]
     },
     "execution_count": 59,
     "metadata": {},
     "output_type": "execute_result"
    }
   ],
   "source": [
    "vocab =sorted(set(''.join(words)))\n",
    "len(vocab)"
   ]
  },
  {
   "cell_type": "code",
   "execution_count": 32,
   "id": "285188f4-996e-48e3-a6c1-4c5f8bac70fd",
   "metadata": {},
   "outputs": [],
   "source": [
    "i2s = {i+1:j for i,j in enumerate(vocab)}"
   ]
  },
  {
   "cell_type": "code",
   "execution_count": 33,
   "id": "22e18e9c-672c-4c74-87ef-0379f6e8440c",
   "metadata": {},
   "outputs": [],
   "source": [
    "s2i = {j:i+1 for i,j in enumerate(vocab)}"
   ]
  },
  {
   "cell_type": "code",
   "execution_count": 34,
   "id": "d7673754-f5fb-41d3-8d77-d79846474ec9",
   "metadata": {},
   "outputs": [
    {
     "data": {
      "text/plain": [
       "{'a': 1,\n",
       " 'b': 2,\n",
       " 'c': 3,\n",
       " 'd': 4,\n",
       " 'e': 5,\n",
       " 'f': 6,\n",
       " 'g': 7,\n",
       " 'h': 8,\n",
       " 'i': 9,\n",
       " 'j': 10,\n",
       " 'k': 11,\n",
       " 'l': 12,\n",
       " 'm': 13,\n",
       " 'n': 14,\n",
       " 'o': 15,\n",
       " 'p': 16,\n",
       " 'q': 17,\n",
       " 'r': 18,\n",
       " 's': 19,\n",
       " 't': 20,\n",
       " 'u': 21,\n",
       " 'v': 22,\n",
       " 'w': 23,\n",
       " 'x': 24,\n",
       " 'y': 25,\n",
       " 'z': 26,\n",
       " '.': 0}"
      ]
     },
     "execution_count": 34,
     "metadata": {},
     "output_type": "execute_result"
    }
   ],
   "source": [
    "i2s[0] = '.'\n",
    "s2i['.'] = 0\n",
    "s2i"
   ]
  },
  {
   "cell_type": "code",
   "execution_count": 35,
   "id": "54cea244-9ea2-42b8-9c20-4a16bdcbc6d8",
   "metadata": {},
   "outputs": [
    {
     "data": {
      "text/plain": [
       "12"
      ]
     },
     "execution_count": 35,
     "metadata": {},
     "output_type": "execute_result"
    }
   ],
   "source": [
    "s2i[i2s[12]]"
   ]
  },
  {
   "cell_type": "code",
   "execution_count": 36,
   "id": "66d42b77-065a-488d-82fe-b6521fe9fc60",
   "metadata": {},
   "outputs": [],
   "source": [
    "x= []\n",
    "y= []\n",
    "context_window = 3\n",
    "context = [0] * context_window\n",
    "\n",
    "for word in words:\n",
    "    for char in  word:\n",
    "        ix = s2i[char]\n",
    "        x.append(context)\n",
    "        y.append(ix)\n",
    "        context = context[1:] + [ ix]"
   ]
  },
  {
   "cell_type": "code",
   "execution_count": 37,
   "id": "1019bfda-7838-4a55-adc1-a8ea5c60bfe0",
   "metadata": {},
   "outputs": [
    {
     "data": {
      "text/plain": [
       "196113"
      ]
     },
     "execution_count": 37,
     "metadata": {},
     "output_type": "execute_result"
    }
   ],
   "source": [
    "len(x)"
   ]
  },
  {
   "cell_type": "code",
   "execution_count": 38,
   "id": "5f01a582-5954-42f9-b6b3-fb27696ad384",
   "metadata": {},
   "outputs": [
    {
     "data": {
      "text/plain": [
       "196113"
      ]
     },
     "execution_count": 38,
     "metadata": {},
     "output_type": "execute_result"
    }
   ],
   "source": [
    "len(y)"
   ]
  },
  {
   "cell_type": "code",
   "execution_count": 39,
   "id": "38d53a9a-9b44-4eba-816a-fbe6649449c8",
   "metadata": {},
   "outputs": [],
   "source": [
    "import torch"
   ]
  },
  {
   "cell_type": "code",
   "execution_count": 40,
   "id": "d93ca6bb-e9f2-4df3-8003-b8229b504336",
   "metadata": {},
   "outputs": [
    {
     "data": {
      "text/plain": [
       "(torch.Size([196113, 3]), torch.Size([196113]))"
      ]
     },
     "execution_count": 40,
     "metadata": {},
     "output_type": "execute_result"
    }
   ],
   "source": [
    "x = torch.tensor(x)\n",
    "y = torch.tensor(y)\n",
    "x.shape, y.shape"
   ]
  },
  {
   "cell_type": "code",
   "execution_count": 120,
   "id": "93a05bfd-a224-46d2-b123-3349df03ea97",
   "metadata": {},
   "outputs": [
    {
     "name": "stderr",
     "output_type": "stream",
     "text": [
      "C:\\Users\\user\\AppData\\Local\\Temp\\ipykernel_9688\\2731668160.py:5: UserWarning: To copy construct from a tensor, it is recommended to use sourceTensor.clone().detach() or sourceTensor.clone().detach().requires_grad_(True), rather than torch.tensor(sourceTensor).\n",
      "  self.x = torch.tensor(x, dtype=torch.long)\n",
      "C:\\Users\\user\\AppData\\Local\\Temp\\ipykernel_9688\\2731668160.py:6: UserWarning: To copy construct from a tensor, it is recommended to use sourceTensor.clone().detach() or sourceTensor.clone().detach().requires_grad_(True), rather than torch.tensor(sourceTensor).\n",
      "  self.y = torch.tensor(y, dtype=torch.long)\n"
     ]
    }
   ],
   "source": [
    "from torch.utils.data import Dataset, DataLoader\n",
    "\n",
    "class MyDataset(Dataset):\n",
    "    def __init__(self, x, y):\n",
    "        self.x = torch.tensor(x, dtype=torch.long)\n",
    "        self.y = torch.tensor(y, dtype=torch.long)\n",
    "    \n",
    "    def __len__(self):\n",
    "        return len(self.x)\n",
    "    \n",
    "    def __getitem__(self, idx):\n",
    "        return self.x[idx], self.y[idx]\n",
    "\n",
    "dataset = MyDataset(x, y)\n",
    "dataloader = DataLoader(dataset, batch_size=512*8, shuffle=True)"
   ]
  },
  {
   "cell_type": "code",
   "execution_count": 121,
   "id": "bc434811-eea6-465a-8a78-c89c517c01bd",
   "metadata": {},
   "outputs": [],
   "source": [
    "import torch\n",
    "import torch.nn as nn\n",
    "\n",
    "class MyTextModel(nn.Module):\n",
    "    def __init__(self, vocab_size, embedding_dim, hidden_dim, output_dim, num_layers=1):\n",
    "        super(MyTextModel, self).__init__()\n",
    "        \n",
    "        self.emb = nn.Embedding(vocab_size, embedding_dim)\n",
    "        self.rnn = nn.RNN(embedding_dim, hidden_dim, num_layers, batch_first=True)\n",
    "        self.fc = nn.Linear(hidden_dim, output_dim)\n",
    "    \n",
    "    def forward(self, x):\n",
    "        # print(x.shape)\n",
    "        x = self.emb(x)\n",
    "        # print(x.shape)\n",
    "        out, hidden = self.rnn(x)\n",
    "        # print(out.shape, hidden.shape)\n",
    "        last_hidden = hidden[-1] \n",
    "        # print(last_hidden.shape)\n",
    "        out = self.fc(last_hidden)  \n",
    "        # print(out.shape)\n",
    "        return out\n"
   ]
  },
  {
   "cell_type": "code",
   "execution_count": 128,
   "id": "3d511463-a0c3-4f48-9e0b-c7c6eddc0a9f",
   "metadata": {},
   "outputs": [],
   "source": [
    "torch.manual_seed(42)\n",
    "MyModel = MyTextModel(27,4,4,27)"
   ]
  },
  {
   "cell_type": "code",
   "execution_count": 129,
   "id": "24163baa-34d4-4c6b-97e1-4568c5f168e7",
   "metadata": {},
   "outputs": [],
   "source": [
    "test,teach = next(iter(dataloader))"
   ]
  },
  {
   "cell_type": "code",
   "execution_count": 130,
   "id": "d272cc71-c208-4091-bf97-56215ced583e",
   "metadata": {},
   "outputs": [
    {
     "data": {
      "text/plain": [
       "(torch.Size([4096, 3]), torch.Size([4096]))"
      ]
     },
     "execution_count": 130,
     "metadata": {},
     "output_type": "execute_result"
    }
   ],
   "source": [
    "test.shape, teach.shape"
   ]
  },
  {
   "cell_type": "code",
   "execution_count": 131,
   "id": "7351c87c-16cc-408f-8674-0564caa09656",
   "metadata": {},
   "outputs": [
    {
     "data": {
      "text/plain": [
       "tensor([[ 0.0912,  0.4964,  0.7328,  ...,  0.6188, -0.2077,  0.4909],\n",
       "        [ 0.4767,  0.4388,  0.7456,  ..., -0.1041,  0.2572, -0.3621],\n",
       "        [ 0.0142,  0.3445,  0.6181,  ...,  0.5959, -0.0797,  0.4186],\n",
       "        ...,\n",
       "        [ 0.1082,  0.4468,  0.7269,  ..., -0.0623,  0.0661,  0.0975],\n",
       "        [ 0.3659,  0.3559,  0.5481,  ...,  0.1498,  0.0232, -0.1049],\n",
       "        [ 0.4058,  0.2281,  0.5571,  ..., -0.0886,  0.3898, -0.4599]],\n",
       "       grad_fn=<AddmmBackward0>)"
      ]
     },
     "execution_count": 131,
     "metadata": {},
     "output_type": "execute_result"
    }
   ],
   "source": [
    "MyModel(test)"
   ]
  },
  {
   "cell_type": "code",
   "execution_count": 132,
   "id": "ffdacc43-7bd0-43c3-8385-d8554bbbeeb2",
   "metadata": {
    "scrolled": true
   },
   "outputs": [],
   "source": [
    "import torch.nn as nn\n",
    "import torch.nn.functional as F\n",
    "\n",
    "MyModel.train()\n",
    "optimizer =  torch.optim.Adam(MyModel.parameters(), lr = 0.001)\n",
    "criterion =  F.cross_entropy\n",
    "counter = 0\n",
    "lossi = [] ;stepi = []\n",
    "for epoch in range(50):\n",
    "    for feature, label in dataloader:\n",
    "        predict = MyModel(feature)\n",
    "        loss = criterion(predict, label)\n",
    "        optimizer.zero_grad()\n",
    "        loss.backward()\n",
    "        optimizer.step()\n",
    "        lossi.append(loss.item())\n",
    "        stepi.append(counter)\n",
    "        counter += 1"
   ]
  },
  {
   "cell_type": "code",
   "execution_count": 133,
   "id": "7b0c7480-7297-475e-8b74-04c168009d6b",
   "metadata": {
    "scrolled": true
   },
   "outputs": [
    {
     "data": {
      "text/plain": [
       "[<matplotlib.lines.Line2D at 0x1d27fab3b20>]"
      ]
     },
     "execution_count": 133,
     "metadata": {},
     "output_type": "execute_result"
    },
    {
     "data": {
      "image/png": "[encoded data removed]",
      "text/plain": [
       "<Figure size 640x480 with 1 Axes>"
      ]
     },
     "metadata": {},
     "output_type": "display_data"
    }
   ],
   "source": [
    "import matplotlib.pyplot as plt\n",
    "plt.plot(stepi, lossi)"
   ]
  },
  {
   "cell_type": "code",
   "execution_count": 137,
   "id": "668dacc2-89ce-498c-a5f4-4f61b3b4f0df",
   "metadata": {},
   "outputs": [
    {
     "name": "stdout",
     "output_type": "stream",
     "text": [
      "Generating 10 new names...\n",
      "\n",
      "- anmit\n",
      "- hiyem\n",
      "- norev\n",
      "- ziath\n",
      "- taril\n",
      "- hnthi\n",
      "- raane\n",
      "- uliad\n",
      "- ektia\n",
      "- sedas\n"
     ]
    }
   ],
   "source": [
    "import torch\n",
    "import torch.nn.functional as F\n",
    "\n",
    "num_names_to_generate = 10\n",
    "max_name_length = 5\n",
    "context_window = 3   \n",
    "\n",
    "print(f\"Generating {num_names_to_generate} new names...\\n\")\n",
    "\n",
    "MyModel.eval()\n",
    "for i in range(num_names_to_generate):\n",
    "    context = [0] * context_window\n",
    "    generated_indices = []\n",
    "\n",
    "    for _ in range(max_name_length):\n",
    "        \n",
    "\n",
    "        context_tensor = torch.tensor([context], dtype=torch.long)\n",
    "\n",
    "        with torch.no_grad():\n",
    "            prediction_logits = MyModel(context_tensor)\n",
    "        probabilities = F.softmax(prediction_logits, dim=1)\n",
    "        next_char_index = torch.multinomial(probabilities, num_samples=1).item()\n",
    "        if next_char_index == 0:\n",
    "            break\n",
    "        generated_indices.append(next_char_index)\n",
    "        context = context[1:] + [next_char_index]\n",
    "\n",
    "    new_name = ''.join(i2s[index] for index in generated_indices)\n",
    "    print(f\"- {new_name}\")"
   ]
  },
  {
   "cell_type": "code",
   "execution_count": null,
   "id": "fbe34fd5-baa9-4bc9-8a9d-915f4d19bff5",
   "metadata": {},
   "outputs": [],
   "source": []
  }
 ],
 "metadata": {
  "kernelspec": {
   "display_name": "Python 3 (ipykernel)",
   "language": "python",
   "name": "python3"
  },
  "language_info": {
   "codemirror_mode": {
    "name": "ipython",
    "version": 3
   },
   "file_extension": ".py",
   "mimetype": "text/x-python",
   "name": "python",
   "nbconvert_exporter": "python",
   "pygments_lexer": "ipython3",
   "version": "3.10.11"
  }
 },
 "nbformat": 4,
 "nbformat_minor": 5
}
